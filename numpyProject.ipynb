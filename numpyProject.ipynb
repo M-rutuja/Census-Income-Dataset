{
 "cells": [
  {
   "cell_type": "markdown",
   "id": "327de011-5c1e-4c05-85b5-ec1d891f5e6f",
   "metadata": {},
   "source": [
    "<h2>Mini-project -\n",
    "Demand Estimation with n \n",
    " Substitutable Products</h2>"
   ]
  },
  {
   "cell_type": "code",
   "execution_count": 3,
   "id": "e5832443-ad8a-4e39-aa42-9e9bb710edd0",
   "metadata": {},
   "outputs": [],
   "source": [
    "import numpy as np\n",
    "# using the where and unique method\n",
    "def demand(prices,values):\n",
    "    p = np.array(prices)\n",
    "    v = np.array(values)\n",
    "    test = v - p \n",
    "    count = []\n",
    "    for i in test:\n",
    "        mx = i.max()\n",
    "        # getting the smaller index\n",
    "        a = np.where(i == mx)[0][0]\n",
    "        if mx >= 0:\n",
    "            count.append(a)\n",
    "    _, counts = np.unique(np.array(count), return_counts=True)\n",
    "    return counts"
   ]
  },
  {
   "cell_type": "code",
   "execution_count": 4,
   "id": "6b54e51e-cc3c-456b-b533-8793e41ac62c",
   "metadata": {},
   "outputs": [
    {
     "name": "stdout",
     "output_type": "stream",
     "text": [
      "Demand for product 0 : 1\n",
      "Demand for product 1 : 1\n",
      "Demand for product 2 : 1\n"
     ]
    }
   ],
   "source": [
    "# Sample run 1\n",
    "prices=[10,8,12]\n",
    "values=[[9,7,11],[10,8,12],[9,8,12],[9,8,13]]\n",
    "ans=demand(prices,values)\n",
    "for i in range(len(prices)):\n",
    "    print('Demand for product',i,':',ans[i])"
   ]
  },
  {
   "cell_type": "code",
   "execution_count": 5,
   "id": "898c5918-72da-4785-b4d1-7cd3ea6712ff",
   "metadata": {},
   "outputs": [
    {
     "name": "stdout",
     "output_type": "stream",
     "text": [
      "Demand for product 0 : 3\n",
      "Demand for product 1 : 1\n",
      "Demand for product 2 : 1\n"
     ]
    }
   ],
   "source": [
    "# Sample run 2\n",
    "prices=[20,15,30]\n",
    "values=[[30,30,20],[40,10,15],[18,13,29],[40,30,50],[10,30,50],[10,10,10],[20,15,30]]\n",
    "ans=demand(prices,values)\n",
    "for i in range(len(prices)):\n",
    "    print('Demand for product',i,':',ans[i])"
   ]
  },
  {
   "cell_type": "code",
   "execution_count": 6,
   "id": "b6896ed0-2f12-4393-b804-53a810ee5761",
   "metadata": {},
   "outputs": [
    {
     "name": "stdout",
     "output_type": "stream",
     "text": [
      "False\n",
      "False\n",
      "False\n",
      "False\n",
      "False\n",
      "False\n",
      "True\n"
     ]
    }
   ],
   "source": [
    "#SPIN OFF\n",
    "# all method\n",
    "p = np.array(prices)\n",
    "v = np.array(values)\n",
    "test = v - p \n",
    "for i in test:\n",
    "    mx = i.max()\n",
    "    tf = np.all(i == mx) \n",
    "    # returns a bool, True means that all the value in that vector has the max value\n",
    "    print(tf)"
   ]
  }
 ],
 "metadata": {
  "kernelspec": {
   "display_name": "Python 3 (ipykernel)",
   "language": "python",
   "name": "python3"
  },
  "language_info": {
   "codemirror_mode": {
    "name": "ipython",
    "version": 3
   },
   "file_extension": ".py",
   "mimetype": "text/x-python",
   "name": "python",
   "nbconvert_exporter": "python",
   "pygments_lexer": "ipython3",
   "version": "3.12.2"
  }
 },
 "nbformat": 4,
 "nbformat_minor": 5
}
